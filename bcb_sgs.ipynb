{
  "nbformat": 4,
  "nbformat_minor": 0,
  "metadata": {
    "colab": {
      "provenance": [],
      "authorship_tag": "ABX9TyNXuPbcEtjtPPdZcqvJRQ4P",
      "include_colab_link": true
    },
    "kernelspec": {
      "name": "python3",
      "display_name": "Python 3"
    },
    "language_info": {
      "name": "python"
    }
  },
  "cells": [
    {
      "cell_type": "markdown",
      "metadata": {
        "id": "view-in-github",
        "colab_type": "text"
      },
      "source": [
        "<a href=\"https://colab.research.google.com/github/Juliano-farias-santos/Bacen_sgs/blob/main/bcb_sgs.ipynb\" target=\"_parent\"><img src=\"https://colab.research.google.com/assets/colab-badge.svg\" alt=\"Open In Colab\"/></a>"
      ]
    },
    {
      "cell_type": "markdown",
      "source": [
        "# Extraindo dados do Banco Central via API"
      ],
      "metadata": {
        "id": "1-Pozvg5uNfm"
      }
    },
    {
      "cell_type": "markdown",
      "source": [
        "Com base no tutorial do site Análise Macro, usei o pacote Python-bcb para automatizar a extração de algumas séries do Sistema Gerenciador de Séries Temporais (sgs) do Banco Central. Após puxar os dados via api, o código faz o download da informação em excel (xlsx). Como são muitas séries, utilizei apenas algumas a título de exemplo.\n",
        "\n",
        "Você pode aprender mais sobre o pacote Python-bcb aqui:\n",
        "https://analisemacro.com.br/economia/indicadores/coletando-dados-do-banco-central-com-python/\n",
        "\n",
        "Para extrair outras séries do sgs, você pode consultar os códigos aqui: https://www.bcb.gov.br/estatisticas/indecoreestruturacao\n",
        "\n",
        "\n"
      ],
      "metadata": {
        "id": "6_fp5s4z2EPw"
      }
    },
    {
      "cell_type": "code",
      "source": [
        "# primeiro, é necessário instalar o pacote python-bcb\n",
        "\n",
        "!pip install python-bcb"
      ],
      "metadata": {
        "id": "4xsETP-1uyDK"
      },
      "execution_count": null,
      "outputs": []
    },
    {
      "cell_type": "code",
      "source": [
        "# importando as bibliotecas necessárias \n",
        "\n",
        "from matplotlib import pyplot as plt\n",
        "import seaborn as sns\n",
        "import pandas as pd"
      ],
      "metadata": {
        "id": "9wA7BGyOthqb"
      },
      "execution_count": null,
      "outputs": []
    },
    {
      "cell_type": "code",
      "source": [
        "#importando pacote\n",
        "from bcb import sgs\n",
        "\n",
        "#fazendo as chamadas\n",
        "\n",
        "indices_de_precos = sgs.get({'INPC': 188,\n",
        "                    'IPCA': 433,\n",
        "                    'IPCA-15': 4466,\n",
        "                    'IGP-M':7448,\n",
        "                    'IGP-DI': 190}\n",
        "                    )\n",
        "\n",
        "indices_de_precos.to_excel(\"indices_de_precos.xlsx\",sheet_name=\"indices\")\n",
        "\n",
        "#download do arquivo\n",
        "from google.colab import files\n",
        "files.download(\"indices_de_precos.xlsx\")"
      ],
      "metadata": {
        "colab": {
          "base_uri": "https://localhost:8080/",
          "height": 17
        },
        "id": "3dxblHp3ne8c",
        "outputId": "b47cdce3-3c7a-4907-aa25-b66b54e6f7f2"
      },
      "execution_count": null,
      "outputs": [
        {
          "output_type": "display_data",
          "data": {
            "text/plain": [
              "<IPython.core.display.Javascript object>"
            ],
            "application/javascript": [
              "\n",
              "    async function download(id, filename, size) {\n",
              "      if (!google.colab.kernel.accessAllowed) {\n",
              "        return;\n",
              "      }\n",
              "      const div = document.createElement('div');\n",
              "      const label = document.createElement('label');\n",
              "      label.textContent = `Downloading \"${filename}\": `;\n",
              "      div.appendChild(label);\n",
              "      const progress = document.createElement('progress');\n",
              "      progress.max = size;\n",
              "      div.appendChild(progress);\n",
              "      document.body.appendChild(div);\n",
              "\n",
              "      const buffers = [];\n",
              "      let downloaded = 0;\n",
              "\n",
              "      const channel = await google.colab.kernel.comms.open(id);\n",
              "      // Send a message to notify the kernel that we're ready.\n",
              "      channel.send({})\n",
              "\n",
              "      for await (const message of channel.messages) {\n",
              "        // Send a message to notify the kernel that we're ready.\n",
              "        channel.send({})\n",
              "        if (message.buffers) {\n",
              "          for (const buffer of message.buffers) {\n",
              "            buffers.push(buffer);\n",
              "            downloaded += buffer.byteLength;\n",
              "            progress.value = downloaded;\n",
              "          }\n",
              "        }\n",
              "      }\n",
              "      const blob = new Blob(buffers, {type: 'application/binary'});\n",
              "      const a = document.createElement('a');\n",
              "      a.href = window.URL.createObjectURL(blob);\n",
              "      a.download = filename;\n",
              "      div.appendChild(a);\n",
              "      a.click();\n",
              "      div.remove();\n",
              "    }\n",
              "  "
            ]
          },
          "metadata": {}
        },
        {
          "output_type": "display_data",
          "data": {
            "text/plain": [
              "<IPython.core.display.Javascript object>"
            ],
            "application/javascript": [
              "download(\"download_5782a7b5-90e2-4501-a521-7df06093b45a\", \"indices_de_precos.xlsx\", 32594)"
            ]
          },
          "metadata": {}
        }
      ]
    },
    {
      "cell_type": "code",
      "source": [
        "\n",
        "pib_trimestral = sgs.get({'PIB': 22099,\n",
        "                    'PIB valor adicionado': 22097,\n",
        "                    'Agropecuária': 22083,\n",
        "                    'Indústria':22084,\n",
        "                    'Serviços':22089,\n",
        "                    'PIB dessaz.':22109,\n",
        "                    'PIB valor adicionado dessaz.':22108,\n",
        "                    'Agropecuária dessaz.':22105,\n",
        "                    'Indústria dessaz.':22106,\n",
        "                    'Serviços dessaz.':22107\n",
        "                    }\n",
        "                    )\n",
        "\n",
        "pib_trimestral.to_excel(\"pib_trimestral.xlsx\",sheet_name=\"indices\")\n",
        "from google.colab import files\n",
        "files.download(\"pib_trimestral.xlsx\")"
      ],
      "metadata": {
        "colab": {
          "base_uri": "https://localhost:8080/",
          "height": 17
        },
        "id": "5ShiRJ6XzHw7",
        "outputId": "706ed620-a4cc-4418-9bbe-191e668d3ba0"
      },
      "execution_count": null,
      "outputs": [
        {
          "output_type": "display_data",
          "data": {
            "text/plain": [
              "<IPython.core.display.Javascript object>"
            ],
            "application/javascript": [
              "\n",
              "    async function download(id, filename, size) {\n",
              "      if (!google.colab.kernel.accessAllowed) {\n",
              "        return;\n",
              "      }\n",
              "      const div = document.createElement('div');\n",
              "      const label = document.createElement('label');\n",
              "      label.textContent = `Downloading \"${filename}\": `;\n",
              "      div.appendChild(label);\n",
              "      const progress = document.createElement('progress');\n",
              "      progress.max = size;\n",
              "      div.appendChild(progress);\n",
              "      document.body.appendChild(div);\n",
              "\n",
              "      const buffers = [];\n",
              "      let downloaded = 0;\n",
              "\n",
              "      const channel = await google.colab.kernel.comms.open(id);\n",
              "      // Send a message to notify the kernel that we're ready.\n",
              "      channel.send({})\n",
              "\n",
              "      for await (const message of channel.messages) {\n",
              "        // Send a message to notify the kernel that we're ready.\n",
              "        channel.send({})\n",
              "        if (message.buffers) {\n",
              "          for (const buffer of message.buffers) {\n",
              "            buffers.push(buffer);\n",
              "            downloaded += buffer.byteLength;\n",
              "            progress.value = downloaded;\n",
              "          }\n",
              "        }\n",
              "      }\n",
              "      const blob = new Blob(buffers, {type: 'application/binary'});\n",
              "      const a = document.createElement('a');\n",
              "      a.href = window.URL.createObjectURL(blob);\n",
              "      a.download = filename;\n",
              "      div.appendChild(a);\n",
              "      a.click();\n",
              "      div.remove();\n",
              "    }\n",
              "  "
            ]
          },
          "metadata": {}
        },
        {
          "output_type": "display_data",
          "data": {
            "text/plain": [
              "<IPython.core.display.Javascript object>"
            ],
            "application/javascript": [
              "download(\"download_9a251095-9e55-413b-8d53-feba08e43b25\", \"pib_trimestral.xlsx\", 12226)"
            ]
          },
          "metadata": {}
        }
      ]
    }
  ]
}